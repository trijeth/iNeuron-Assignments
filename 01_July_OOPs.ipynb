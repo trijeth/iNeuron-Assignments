{
  "metadata": {
    "language_info": {
      "codemirror_mode": {
        "name": "python",
        "version": 3
      },
      "file_extension": ".py",
      "mimetype": "text/x-python",
      "name": "python",
      "nbconvert_exporter": "python",
      "pygments_lexer": "ipython3",
      "version": "3.8"
    },
    "kernelspec": {
      "name": "python",
      "display_name": "Python (Pyodide)",
      "language": "python"
    }
  },
  "nbformat_minor": 4,
  "nbformat": 4,
  "cells": [
    {
      "cell_type": "raw",
      "source": "1. What is the primary goal of Object-Oriented Programming (OOP)?",
      "metadata": {}
    },
    {
      "cell_type": "raw",
      "source": "The primary goal of Object-Oriented Programming (OOP) is to provide a programming paradigm that models real-world entities, relationships, and behaviors in a way that simplifies and enhances the software development process. It is designed to organize code into reusable, self-contained units called objects, each representing a specific entity or concept.\n\nThe four main principles that guide OOP are:\n\nEncapsulation: Encapsulation refers to the bundling of data (attributes or properties) and the methods (functions or procedures) that operate on that data within a single unit, the object. It hides the internal implementation details of an object and exposes only the necessary interfaces, promoting information hiding and reducing system complexity.\n\nAbstraction: Abstraction focuses on defining a simplified interface for objects, where only the relevant features are exposed, and the underlying complexity is hidden. It allows developers to create generalized classes and then specialize them for specific use cases, leading to more modular and maintainable code.\n\nInheritance: Inheritance enables the creation of new classes (derived or child classes) based on existing classes (base or parent classes). The derived classes inherit the properties and behaviors of their parent classes, allowing code reuse and promoting the \"is-a\" relationship between objects.\n\nPolymorphism: Polymorphism allows objects to be treated as instances of their parent class or as instances of their specific derived classes. This flexibility allows the same method to be applied to different objects, even if they belong to different classes, making the code more flexible and extensible.",
      "metadata": {}
    },
    {
      "cell_type": "raw",
      "source": "2. What is an object in Python?",
      "metadata": {}
    },
    {
      "cell_type": "raw",
      "source": "In Python, an object is a fundamental concept and the basic building block of the language. In simple terms, an object is a self-contained unit that encapsulates data and the functions (methods) that operate on that data. Almost everything in Python is an object, including integers, strings, lists, functions, and even classes.\n\nEach object in Python has two main characteristics:\n\nIdentity: The identity of an object is a unique value that distinguishes it from other objects. It is implemented as a memory address in CPython, the default and most widely used implementation of Python. You can think of it as an object's \"address\" in memory. You can check the identity of an object using the id() function.\n\nState: The state of an object refers to the data (attributes or properties) it holds at a particular point in time. The state of an object can change over its lifetime, as data is modified or updated.",
      "metadata": {}
    },
    {
      "cell_type": "code",
      "source": "# Define a class called \"Person\"\nclass Person:\n    def __init__(self, name, age):\n        self.name = name\n        self.age = age\n\n# Create an object (instance) of the class \"Person\"\nperson1 = Person(\"Alice\", 30)\n\n# Accessing the attributes of the object\nprint(person1.name)  # Output: Alice\nprint(person1.age)   # Output: 30\n",
      "metadata": {
        "trusted": true
      },
      "execution_count": 1,
      "outputs": [
        {
          "name": "stdout",
          "text": "Alice\n30\n",
          "output_type": "stream"
        }
      ]
    },
    {
      "cell_type": "raw",
      "source": "3. What is a class in Python?",
      "metadata": {}
    },
    {
      "cell_type": "raw",
      "source": "In Python, a class is a blueprint or a template that defines the structure and behavior of objects. It is a fundamental concept of Object-Oriented Programming (OOP) and serves as a blueprint for creating objects. A class encapsulates data (attributes or properties) and functions (methods) that operate on that data. It allows you to create objects with specific characteristics and behaviors based on the defined class.",
      "metadata": {}
    },
    {
      "cell_type": "code",
      "source": "# Define a class called \"Car\"\nclass Car:\n    def __init__(self, make, model, year):\n        self.make = make\n        self.model = model\n        self.year = year\n\n    def start_engine(self):\n        print(\"Engine started!\")\n\n    def stop_engine(self):\n        print(\"Engine stopped!\")\n",
      "metadata": {
        "trusted": true
      },
      "execution_count": 2,
      "outputs": []
    },
    {
      "cell_type": "raw",
      "source": "4. What are attributes and methods in a class?",
      "metadata": {}
    },
    {
      "cell_type": "raw",
      "source": "In a class, attributes and methods are two fundamental components that define the structure and behavior of objects created from that class in Python.\n\nAttributes:\nAttributes are variables that belong to a class and hold data associated with each object created from that class. They represent the state of an object and store information about the object's characteristics. Each object created from the class has its own copy of attributes, which can have different values for different objects.\nIn Python, attributes are defined within the class using the self keyword (which refers to the current instance of the class) followed by a dot and the attribute name. The self keyword is used to access and set the attributes for each specific object.",
      "metadata": {}
    },
    {
      "cell_type": "code",
      "source": "class Calculator:\n    def __init__(self):\n        self.result = 0\n\n    def add(self, num):\n        self.result += num\n\n    def subtract(self, num):\n        self.result -= num\n\n    def get_result(self):\n        return self.result\n\n# Creating an object (instance) of the class \"Calculator\"\ncalc = Calculator()\n\n# Calling methods on the object\ncalc.add(5)\ncalc.subtract(3)\n\n# Getting the result using the method\nprint(calc.get_result())  # Output: 2\n",
      "metadata": {
        "trusted": true
      },
      "execution_count": 4,
      "outputs": [
        {
          "name": "stdout",
          "text": "2\n",
          "output_type": "stream"
        }
      ]
    },
    {
      "cell_type": "raw",
      "source": "5. What is the difference between class variables and instance variables in Python?",
      "metadata": {}
    },
    {
      "cell_type": "raw",
      "source": "In Python, class variables and instance variables are two types of variables used in classes, and they have different scopes and purposes:\n\nClass Variables:\nClass variables are variables that are shared among all instances (objects) of a class. They are defined within the class but outside any methods, usually at the top level of the class.\nClass variables are associated with the class itself, not with individual instances. Any modification to a class variable affects all instances of that class.\nThey are useful for defining attributes or data that are common to all objects of the class and do not vary from instance to instance.\nTo access class variables, you can use either the class name or the instance name, but modifying the class variable using an instance will create an instance variable with the same name that shadows the class variable.\nClass variables are typically defined during the class definition.",
      "metadata": {}
    },
    {
      "cell_type": "code",
      "source": "class MyClass:\n    class_variable = 10  # This is a class variable shared among all instances\n\n# Accessing class variable using class name\nprint(MyClass.class_variable)  # Output: 10\n\n# Accessing class variable using an instance\nobj1 = MyClass()\nprint(obj1.class_variable)  # Output: 10\n\n# Modifying class variable using class name\nMyClass.class_variable = 20\n\n# Modifying class variable using an instance (creates instance variable)\nobj1.class_variable = 30\n\nprint(MyClass.class_variable)  # Output: 20 (class variable)\nprint(obj1.class_variable)     # Output: 30 (instance variable)\n",
      "metadata": {
        "trusted": true
      },
      "execution_count": 5,
      "outputs": [
        {
          "name": "stdout",
          "text": "10\n10\n20\n30\n",
          "output_type": "stream"
        }
      ]
    },
    {
      "cell_type": "raw",
      "source": "Instance Variables:\nInstance variables are variables that are unique to each instance (object) of a class. They are defined within the class methods, usually within the constructor (__init__) method.\nEach instance of the class has its own copy of instance variables, and they can have different values for different instances.\nInstance variables represent the state of each individual object and can vary from one instance to another.\nTo access instance variables, you need to use the instance name.",
      "metadata": {}
    },
    {
      "cell_type": "code",
      "source": "class Person:\n    def __init__(self, name, age):\n        self.name = name  # This is an instance variable unique to each object\n        self.age = age    # This is another instance variable unique to each object\n\n# Creating two objects (instances) of the class \"Person\"\nperson1 = Person(\"Alice\", 30)\nperson2 = Person(\"Bob\", 25)\n\n# Accessing instance variables\nprint(person1.name)  # Output: Alice\nprint(person2.age)   # Output: 25\n",
      "metadata": {
        "trusted": true
      },
      "execution_count": 6,
      "outputs": [
        {
          "name": "stdout",
          "text": "Alice\n25\n",
          "output_type": "stream"
        }
      ]
    },
    {
      "cell_type": "raw",
      "source": "6. What is the purpose of the self parameter in Python class methods?",
      "metadata": {}
    },
    {
      "cell_type": "raw",
      "source": "In Python class methods, the self parameter is a special parameter that refers to the instance of the class itself. It is the first parameter in most instance methods and serves as a reference to the object on which the method is called. The purpose of the self parameter is to access and manipulate the attributes and methods of the current instance.\n\nWhen you create an object from a class, Python automatically passes the instance as the first argument to any instance method you call on that object. By convention, the first parameter of instance methods is named self, but you can technically name it anything you like. However, using self is a widely followed convention in Python programming.\n\nHere's why the self parameter is important in class methods:\n\nAccessing instance variables:\nThe self parameter allows you to access and modify the instance variables (attributes) of the current object. By using self, you can distinguish between the instance variables of different objects of the same class. Without self, the method would not know which object's variables to refer to.\n\nCalling other methods:\nWhen you have multiple methods in a class, one method might need to call another method of the same object. In such cases, you need to use self to call other instance methods within the class.\n\nCreating new instance variables:\nIf you want to create new instance variables within a method, you can use self to do so. The new instance variables will be specific to the current object and won't affect other objects.\n\nCommunicating between methods:\nThe self parameter allows you to pass information between different methods within the same class. Methods can use self to store and retrieve information needed by other methods.",
      "metadata": {}
    },
    {
      "cell_type": "code",
      "source": "class Circle:\n    def __init__(self, radius):\n        self.radius = radius\n\n    def calculate_area(self):\n        return 3.14 * self.radius * self.radius\n\n# Creating an object (instance) of the class \"Circle\"\ncircle1 = Circle(5)\n\n# Accessing instance variables and calling instance methods using \"self\"\nprint(circle1.radius)           # Output: 5\nprint(circle1.calculate_area()) # Output: 78.5\n",
      "metadata": {
        "trusted": true
      },
      "execution_count": 7,
      "outputs": [
        {
          "name": "stdout",
          "text": "5\n78.5\n",
          "output_type": "stream"
        }
      ]
    },
    {
      "cell_type": "raw",
      "source": "7. For a library management system, you have to design the \"Book\" class with OOP\nprinciples in mind. The “Book” class will have following attributes:\na. title: Represents the title of the book.\nb. author: Represents the author(s) of the book.\nc. isbn: Represents the ISBN (International Standard Book Number) of the book.\nd. publication_year: Represents the year of publication of the book.\ne. available_copies: Represents the number of copies available for checkout.\nThe class will also include the following methods:\na. check_out(self): Decrements the available copies by one if there are copies\navailable for checkout.\nb. return_book(self): Increments the available copies by one when a book is\nreturned.\nc. display_book_info(self): Displays the information about the book, including its\nattributes and the number of available copies.",
      "metadata": {}
    },
    {
      "cell_type": "code",
      "source": "class Book:\n    def __init__(self, title, author, isbn, publication_year, available_copies):\n        self.title = title\n        self.author = author\n        self.isbn = isbn\n        self.publication_year = publication_year\n        self.available_copies = available_copies\n\n    def check_out(self):\n        if self.available_copies > 0:\n            self.available_copies -= 1\n            print(f\"Book '{self.title}' checked out successfully.\")\n        else:\n            print(f\"Sorry, '{self.title}' is not available for checkout.\")\n\n    def return_book(self):\n        self.available_copies += 1\n        print(f\"Book '{self.title}' returned successfully.\")\n\n    def display_book_info(self):\n        print(\"Book Information:\")\n        print(f\"Title: {self.title}\")\n        print(f\"Author(s): {self.author}\")\n        print(f\"ISBN: {self.isbn}\")\n        print(f\"Publication Year: {self.publication_year}\")\n        print(f\"Available Copies: {self.available_copies}\")\n\n# Example usage:\n\n# Create a book object\nbook1 = Book(\"The Great Gatsby\", \"F. Scott Fitzgerald\", \"9780743273565\", 1925, 5)\n\n# Display book information\nbook1.display_book_info()\n\n# Check out the book\nbook1.check_out()\n\n# Display updated book information after checkout\nbook1.display_book_info()\n\n# Return the book\nbook1.return_book()\n\n# Display updated book information after returning\nbook1.display_book_info()\n",
      "metadata": {
        "trusted": true
      },
      "execution_count": 8,
      "outputs": [
        {
          "name": "stdout",
          "text": "Book Information:\nTitle: The Great Gatsby\nAuthor(s): F. Scott Fitzgerald\nISBN: 9780743273565\nPublication Year: 1925\nAvailable Copies: 5\nBook 'The Great Gatsby' checked out successfully.\nBook Information:\nTitle: The Great Gatsby\nAuthor(s): F. Scott Fitzgerald\nISBN: 9780743273565\nPublication Year: 1925\nAvailable Copies: 4\nBook 'The Great Gatsby' returned successfully.\nBook Information:\nTitle: The Great Gatsby\nAuthor(s): F. Scott Fitzgerald\nISBN: 9780743273565\nPublication Year: 1925\nAvailable Copies: 5\n",
          "output_type": "stream"
        }
      ]
    },
    {
      "cell_type": "raw",
      "source": "8. For a ticket booking system, you have to design the \"Ticket\" class with OOP\nprinciples in mind. The “Ticket” class should have the following attributes:\na. ticket_id: Represents the unique identifier for the ticket.\nb. event_name: Represents the name of the event.\nc. event_date: Represents the date of the event.\nd. venue: Represents the venue of the event.\ne. seat_number: Represents the seat number associated with the ticket.\nf. price: Represents the price of the ticket.\ng. is_reserved: Represents the reservation status of the ticket.\nThe class also includes the following methods:\na. reserve_ticket(self): Marks the ticket as reserved if it is not already reserved.\nb. cancel_reservation(self): Cancels the reservation of the ticket if it is already\nreserved.\nc. display_ticket_info(self): Displays the information about the ticket, including its\nattributes and reservation status.",
      "metadata": {}
    },
    {
      "cell_type": "code",
      "source": "class Ticket:\n    def __init__(self, ticket_id, event_name, event_date, venue, seat_number, price):\n        self.ticket_id = ticket_id\n        self.event_name = event_name\n        self.event_date = event_date\n        self.venue = venue\n        self.seat_number = seat_number\n        self.price = price\n        self.is_reserved = False\n\n    def reserve_ticket(self):\n        if not self.is_reserved:\n            self.is_reserved = True\n            print(f\"Ticket ID {self.ticket_id} has been reserved.\")\n        else:\n            print(f\"Ticket ID {self.ticket_id} is already reserved.\")\n\n    def cancel_reservation(self):\n        if self.is_reserved:\n            self.is_reserved = False\n            print(f\"Reservation for Ticket ID {self.ticket_id} has been canceled.\")\n        else:\n            print(f\"Ticket ID {self.ticket_id} is not currently reserved.\")\n\n    def display_ticket_info(self):\n        print(\"Ticket Information:\")\n        print(f\"Ticket ID: {self.ticket_id}\")\n        print(f\"Event Name: {self.event_name}\")\n        print(f\"Event Date: {self.event_date}\")\n        print(f\"Venue: {self.venue}\")\n        print(f\"Seat Number: {self.seat_number}\")\n        print(f\"Price: {self.price} USD\")\n        print(f\"Reservation Status: {'Reserved' if self.is_reserved else 'Not Reserved'}\")\n\n# Example usage:\n\n# Create a ticket object\nticket1 = Ticket(\"T12345\", \"Concert\", \"2023-07-30\", \"Stadium A\", \"A12\", 50)\n\n# Display ticket information\nticket1.display_ticket_info()\n\n# Reserve the ticket\nticket1.reserve_ticket()\n\n# Display updated ticket information after reservation\nticket1.display_ticket_info()\n\n# Cancel the reservation\nticket1.cancel_reservation()\n\n# Display updated ticket information after canceling reservation\nticket1.display_ticket_info()\n",
      "metadata": {
        "trusted": true
      },
      "execution_count": 9,
      "outputs": [
        {
          "name": "stdout",
          "text": "Ticket Information:\nTicket ID: T12345\nEvent Name: Concert\nEvent Date: 2023-07-30\nVenue: Stadium A\nSeat Number: A12\nPrice: 50 USD\nReservation Status: Not Reserved\nTicket ID T12345 has been reserved.\nTicket Information:\nTicket ID: T12345\nEvent Name: Concert\nEvent Date: 2023-07-30\nVenue: Stadium A\nSeat Number: A12\nPrice: 50 USD\nReservation Status: Reserved\nReservation for Ticket ID T12345 has been canceled.\nTicket Information:\nTicket ID: T12345\nEvent Name: Concert\nEvent Date: 2023-07-30\nVenue: Stadium A\nSeat Number: A12\nPrice: 50 USD\nReservation Status: Not Reserved\n",
          "output_type": "stream"
        }
      ]
    },
    {
      "cell_type": "raw",
      "source": "9. You are creating a shopping cart for an e-commerce website. Using OOP to model\nthe \"ShoppingCart\" functionality the class should contain following attributes and\nmethods:\na. items: Represents the list of items in the shopping cart.\nThe class also includes the following methods:\na. add_item(self, item): Adds an item to the shopping cart by appending it to the\nlist of items.\nb. remove_item(self, item): Removes an item from the shopping cart if it exists in\nthe list.\nc. view_cart(self): Displays the items currently present in the shopping cart.\nd. clear_cart(self): Clears all items from the shopping cart by reassigning an\nempty list to the items attribute.",
      "metadata": {}
    },
    {
      "cell_type": "code",
      "source": "class ShoppingCart:\n    def __init__(self):\n        self.items = []\n\n    def add_item(self, item):\n        self.items.append(item)\n        print(f\"Item '{item}' added to the shopping cart.\")\n\n    def remove_item(self, item):\n        if item in self.items:\n            self.items.remove(item)\n            print(f\"Item '{item}' removed from the shopping cart.\")\n        else:\n            print(f\"Item '{item}' is not in the shopping cart.\")\n\n    def view_cart(self):\n        if not self.items:\n            print(\"Shopping cart is empty.\")\n        else:\n            print(\"Items in the shopping cart:\")\n            for item in self.items:\n                print(item)\n\n    def clear_cart(self):\n        self.items.clear()\n        print(\"Shopping cart has been cleared.\")\n\n# Example usage:\n\n# Create a shopping cart object\ncart = ShoppingCart()\n\n# Add items to the cart\ncart.add_item(\"Laptop\")\ncart.add_item(\"Headphones\")\ncart.add_item(\"Books\")\n\n# View the cart\ncart.view_cart()\n\n# Remove an item from the cart\ncart.remove_item(\"Headphones\")\n\n# View the updated cart\ncart.view_cart()\n\n# Clear the cart\ncart.clear_cart()\n\n# View the cart after clearing\ncart.view_cart()\n",
      "metadata": {
        "trusted": true
      },
      "execution_count": 10,
      "outputs": [
        {
          "name": "stdout",
          "text": "Item 'Laptop' added to the shopping cart.\nItem 'Headphones' added to the shopping cart.\nItem 'Books' added to the shopping cart.\nItems in the shopping cart:\nLaptop\nHeadphones\nBooks\nItem 'Headphones' removed from the shopping cart.\nItems in the shopping cart:\nLaptop\nBooks\nShopping cart has been cleared.\nShopping cart is empty.\n",
          "output_type": "stream"
        }
      ]
    },
    {
      "cell_type": "raw",
      "source": "10.Imagine a school management system. You have to design the \"Student\" class using\nOOP concepts.The “Student” class has the following attributes:\na. name: Represents the name of the student.\nb. age: Represents the age of the student.\nc. grade: Represents the grade or class of the student.\nd. student_id: Represents the unique identifier for the student.\ne. attendance: Represents the attendance record of the student.\nThe class should also include the following methods:\na. update_attendance(self, date, status): Updates the attendance record of the\nstudent for a given date with the provided status (e.g., present or absent).\nb. get_attendance(self): Returns the attendance record of the student.\nc. get_average_attendance(self): Calculates and returns the average\nattendance percentage of the student based on their attendance record.",
      "metadata": {}
    },
    {
      "cell_type": "code",
      "source": "class Student:\n    def __init__(self, name, age, grade, student_id):\n        self.name = name\n        self.age = age\n        self.grade = grade\n        self.student_id = student_id\n        self.attendance = {}\n\n    def update_attendance(self, date, status):\n        if status.lower() in ['present', 'absent']:\n            self.attendance[date] = status.lower()\n            print(f\"Attendance updated for {self.name} on {date}: {status.capitalize()}.\")\n        else:\n            print(\"Invalid status. Attendance status should be either 'present' or 'absent'.\")\n\n    def get_attendance(self):\n        return self.attendance\n\n    def get_average_attendance(self):\n        if not self.attendance:\n            return 0.0\n\n        total_days = len(self.attendance)\n        present_days = list(self.attendance.values()).count('present')\n        average_attendance = (present_days / total_days) * 100\n        return average_attendance\n\n# Example usage:\n\n# Create a student object\nstudent1 = Student(\"Alice\", 15, 10, \"S12345\")\n\n# Update attendance\nstudent1.update_attendance(\"2023-07-23\", \"present\")\nstudent1.update_attendance(\"2023-07-24\", \"absent\")\nstudent1.update_attendance(\"2023-07-25\", \"present\")\n\n# Get attendance\nattendance_record = student1.get_attendance()\nprint(\"Attendance Record:\")\nfor date, status in attendance_record.items():\n    print(f\"{date}: {status.capitalize()}\")\n\n# Get average attendance\naverage_attendance_percentage = student1.get_average_attendance()\nprint(f\"Average Attendance Percentage: {average_attendance_percentage:.2f}%\")\n",
      "metadata": {
        "trusted": true
      },
      "execution_count": 11,
      "outputs": [
        {
          "name": "stdout",
          "text": "Attendance updated for Alice on 2023-07-23: Present.\nAttendance updated for Alice on 2023-07-24: Absent.\nAttendance updated for Alice on 2023-07-25: Present.\nAttendance Record:\n2023-07-23: Present\n2023-07-24: Absent\n2023-07-25: Present\nAverage Attendance Percentage: 66.67%\n",
          "output_type": "stream"
        }
      ]
    }
  ]
}