{
  "metadata": {
    "language_info": {
      "codemirror_mode": {
        "name": "python",
        "version": 3
      },
      "file_extension": ".py",
      "mimetype": "text/x-python",
      "name": "python",
      "nbconvert_exporter": "python",
      "pygments_lexer": "ipython3",
      "version": "3.8"
    },
    "kernelspec": {
      "name": "python",
      "display_name": "Python (Pyodide)",
      "language": "python"
    }
  },
  "nbformat_minor": 4,
  "nbformat": 4,
  "cells": [
    {
      "cell_type": "raw",
      "source": "1. Explain what inheritance is in object-oriented programming and why it is used.",
      "metadata": {}
    },
    {
      "cell_type": "raw",
      "source": "Inheritance is a fundamental concept in Object-Oriented Programming (OOP) that allows a class (called the child or derived class) to inherit properties and behaviors from another class (called the parent or base class). The child class can reuse and extend the attributes and methods of the parent class, making the code more organized, reusable, and easier to maintain.\n\nInheritance is represented by an \"is-a\" relationship. When a class inherits from another class, it means that the child class is a specialized version of the parent class. The child class inherits all the attributes and methods of the parent class, and it can add new attributes and methods or override existing ones to provide specific functionality.",
      "metadata": {}
    },
    {
      "cell_type": "raw",
      "source": "2. Discuss the concept of single inheritance and multiple inheritance, highlighting their\ndifferences and advantages.",
      "metadata": {}
    },
    {
      "cell_type": "raw",
      "source": "Single Inheritance and Multiple Inheritance are two forms of inheritance in Object-Oriented Programming (OOP) that define how a class can inherit properties and behaviors from other classes.",
      "metadata": {}
    },
    {
      "cell_type": "code",
      "source": "class Parent:\n    def parent_method(self):\n        print(\"This is a method from the Parent class.\")\n\nclass Child(Parent):\n    def child_method(self):\n        print(\"This is a method from the Child class.\")\n\n# Child class inherits from the Parent class\nchild_obj = Child()\nchild_obj.parent_method()  # Output: This is a method from the Parent class.\nchild_obj.child_method()   # Output: This is a method from the Child class.\n",
      "metadata": {
        "trusted": true
      },
      "execution_count": 3,
      "outputs": [
        {
          "name": "stdout",
          "text": "This is a method from the Parent class.\nThis is a method from the Child class.\n",
          "output_type": "stream"
        }
      ]
    },
    {
      "cell_type": "code",
      "source": "class Parent1:\n    def parent_method(self):\n        print(\"This is a method from Parent1.\")\n\nclass Parent2:\n    def parent_method(self):\n        print(\"This is a method from Parent2.\")\n\nclass Child(Parent1, Parent2):\n    pass\n\n# Child class inherits from both Parent1 and Parent2\nchild_obj = Child()\nchild_obj.parent_method()  # Output: This is a method from Parent1.\n",
      "metadata": {
        "trusted": true
      },
      "execution_count": 4,
      "outputs": [
        {
          "name": "stdout",
          "text": "This is a method from Parent1.\n",
          "output_type": "stream"
        }
      ]
    },
    {
      "cell_type": "raw",
      "source": "3.Explain the terms \"base class\" and \"derived class\" in the context of inheritance.",
      "metadata": {}
    },
    {
      "cell_type": "raw",
      "source": "Object-Oriented Programming (OOP), \"base class\" and \"derived class\" are two fundamental terms that refer to the classes involved in the inheritance relationship.\n\nBase Class:\nAlso known as the \"parent class\" or \"superclass,\" the base class is the class from which other classes inherit properties and behaviors. It serves as the foundation for the inheritance hierarchy.\nThe base class contains attributes and methods that are common to multiple related classes. When a class inherits from a base class, it gains access to all the attributes and methods defined in the base class.\nA base class can have multiple derived classes, and it can exist independently without any requirement for inheritance.",
      "metadata": {}
    },
    {
      "cell_type": "code",
      "source": "class Animal:\n    def __init__(self, species):\n        self.species = species\n\n    def make_sound(self):\n        pass\n\nclass Dog(Animal):\n    def make_sound(self):\n        return \"Woof!\"\n\nclass Cat(Animal):\n    def make_sound(self):\n        return \"Meow!\"\n\n# Animal is the base class, and Dog and Cat are derived classes\n",
      "metadata": {
        "trusted": true
      },
      "execution_count": 5,
      "outputs": []
    },
    {
      "cell_type": "raw",
      "source": "Derived Class:\nAlso known as the \"child class\" or \"subclass,\" the derived class is the class that inherits attributes and methods from the base class. It extends and specializes the functionality provided by the base class.\nA derived class can have its own additional attributes and methods in addition to those inherited from the base class. It can override the methods of the base class to provide specific behavior for its instances.\nA derived class is created using the inheritance syntax: class DerivedClass(BaseClass):.",
      "metadata": {}
    },
    {
      "cell_type": "code",
      "source": "class Vehicle:\n    def __init__(self, brand):\n        self.brand = brand\n\n    def drive(self):\n        return \"Vehicle is moving.\"\n\nclass Car(Vehicle):\n    def drive(self):\n        return \"Car is driving.\"\n\nclass Motorcycle(Vehicle):\n    def drive(self):\n        return \"Motorcycle is riding.\"\n\n# Vehicle is the base class, and Car and Motorcycle are derived classes\n",
      "metadata": {
        "trusted": true
      },
      "execution_count": 6,
      "outputs": []
    },
    {
      "cell_type": "raw",
      "source": "4. What is the significance of the \"protected\" access modifier in inheritance? How does\nit differ from \"private\" and \"public\" modifiers?",
      "metadata": {}
    },
    {
      "cell_type": "raw",
      "source": "In Python, access modifiers are used to control the visibility and accessibility of class attributes and methods from outside the class. The three main access modifiers are \"public,\" \"protected,\" and \"private.\" Each modifier serves a different purpose in terms of data encapsulation and inheritance.",
      "metadata": {}
    },
    {
      "cell_type": "code",
      "source": "class MyClass:\n    def __init__(self):\n        self.public_attribute = \"This is a public attribute.\"\n\n    def public_method(self):\n        return \"This is a public method.\"\n\nobj = MyClass()\nprint(obj.public_attribute)  # Output: This is a public attribute.\nprint(obj.public_method())   # Output: This is a public method.\n",
      "metadata": {
        "trusted": true
      },
      "execution_count": 7,
      "outputs": [
        {
          "name": "stdout",
          "text": "This is a public attribute.\nThis is a public method.\n",
          "output_type": "stream"
        }
      ]
    },
    {
      "cell_type": "code",
      "source": "class MyClass:\n    def __init__(self):\n        self._protected_attribute = \"This is a protected attribute.\"\n\n    def _protected_method(self):\n        return \"This is a protected method.\"\n\nobj = MyClass()\nprint(obj._protected_attribute)  # Output: This is a protected attribute.\nprint(obj._protected_method())   # Output: This is a protected method.\n",
      "metadata": {
        "trusted": true
      },
      "execution_count": 8,
      "outputs": [
        {
          "name": "stdout",
          "text": "This is a protected attribute.\nThis is a protected method.\n",
          "output_type": "stream"
        }
      ]
    },
    {
      "cell_type": "code",
      "source": "class MyClass:\n    def __init__(self):\n        self.__private_attribute = \"This is a private attribute.\"\n\n    def __private_method(self):\n        return \"This is a private method.\"\n\nobj = MyClass()\n# This will raise an AttributeError because __private_attribute is name-mangled\n# print(obj.__private_attribute)\n\n# This will also raise an AttributeError because __private_method is name-mangled\n# print(obj.__private_method())\n\n# However, we can still access the name-mangled attributes and methods as follows:\nprint(obj._MyClass__private_attribute)  # Output: This is a private attribute.\nprint(obj._MyClass__private_method())   # Output: This is a private method.\n",
      "metadata": {
        "trusted": true
      },
      "execution_count": 9,
      "outputs": [
        {
          "name": "stdout",
          "text": "This is a private attribute.\nThis is a private method.\n",
          "output_type": "stream"
        }
      ]
    },
    {
      "cell_type": "raw",
      "source": "5. What is the purpose of the \"super\" keyword in inheritance? Provide an example.",
      "metadata": {}
    },
    {
      "cell_type": "raw",
      "source": "The super keyword in inheritance is used to call a method from the parent class (base class) within a method of the child class (derived class). It allows the child class to extend or override the functionality of the parent class while still maintaining access to the parent's methods. The super keyword is particularly useful when you want to execute the parent class's method before or after customizing it in the child class.",
      "metadata": {}
    },
    {
      "cell_type": "code",
      "source": "class Parent:\n    def __init__(self, name):\n        self.name = name\n\n    def greeting(self):\n        return f\"Hello, I am {self.name} from the Parent class.\"\n\nclass Child(Parent):\n    def __init__(self, name, age):\n        super().__init__(name)\n        self.age = age\n\n    def greeting(self):\n        parent_greeting = super().greeting()\n        return f\"{parent_greeting} I am {self.age} years old now.\"\n\n# Example usage:\n\n# Create an object of the Child class\nchild_obj = Child(\"Alice\", 10)\n\n# Call the overridden \"greeting\" method of the Child class\nprint(child_obj.greeting())\n",
      "metadata": {
        "trusted": true
      },
      "execution_count": 10,
      "outputs": [
        {
          "name": "stdout",
          "text": "Hello, I am Alice from the Parent class. I am 10 years old now.\n",
          "output_type": "stream"
        }
      ]
    },
    {
      "cell_type": "raw",
      "source": "6. Create a base class called \"Vehicle\" with attributes like \"make\", \"model\", and \"year\".\nThen, create a derived class called \"Car\" that inherits from \"Vehicle\" and adds an\nattribute called \"fuel_type\". Implement appropriate methods in both classes.",
      "metadata": {}
    },
    {
      "cell_type": "code",
      "source": "class Vehicle:\n    def __init__(self, make, model, year):\n        self.make = make\n        self.model = model\n        self.year = year\n\n    def display_info(self):\n        print(f\"Make: {self.make}\")\n        print(f\"Model: {self.model}\")\n        print(f\"Year: {self.year}\")\n\n\nclass Car(Vehicle):\n    def __init__(self, make, model, year, fuel_type):\n        super().__init__(make, model, year)\n        self.fuel_type = fuel_type\n\n    def display_info(self):\n        super().display_info()\n        print(f\"Fuel Type: {self.fuel_type}\")\n\n\n# Example usage:\n\n# Creating a Vehicle object\nvehicle1 = Vehicle(\"Toyota\", \"Corolla\", 2022)\n\n# Displaying vehicle information\nprint(\"Vehicle Information:\")\nvehicle1.display_info()\nprint()\n\n# Creating a Car object\ncar1 = Car(\"Honda\", \"Civic\", 2021, \"Gasoline\")\n\n# Displaying car information\nprint(\"Car Information:\")\ncar1.display_info()\n",
      "metadata": {
        "trusted": true
      },
      "execution_count": 11,
      "outputs": [
        {
          "name": "stdout",
          "text": "Vehicle Information:\nMake: Toyota\nModel: Corolla\nYear: 2022\n\nCar Information:\nMake: Honda\nModel: Civic\nYear: 2021\nFuel Type: Gasoline\n",
          "output_type": "stream"
        }
      ]
    },
    {
      "cell_type": "raw",
      "source": "7. Create a base class called \"Employee\" with attributes like \"name\" and \"salary.\"\nDerive two classes, \"Manager\" and \"Developer,\" from \"Employee.\" Add an additional\nattribute called \"department\" for the \"Manager\" class and \"programming_language\"\nfor the \"Developer\" class.",
      "metadata": {}
    },
    {
      "cell_type": "code",
      "source": "class Employee:\n    def __init__(self, name, salary):\n        self.name = name\n        self.salary = salary\n\n    def display_info(self):\n        print(f\"Name: {self.name}\")\n        print(f\"Salary: {self.salary}\")\n\n\nclass Manager(Employee):\n    def __init__(self, name, salary, department):\n        super().__init__(name, salary)\n        self.department = department\n\n    def display_info(self):\n        super().display_info()\n        print(f\"Department: {self.department}\")\n\n\nclass Developer(Employee):\n    def __init__(self, name, salary, programming_language):\n        super().__init__(name, salary)\n        self.programming_language = programming_language\n\n    def display_info(self):\n        super().display_info()\n        print(f\"Programming Language: {self.programming_language}\")\n\n\n# Example usage:\n\n# Creating an Employee object\nemployee1 = Employee(\"John Doe\", 50000)\n\n# Displaying employee information\nprint(\"Employee Information:\")\nemployee1.display_info()\nprint()\n\n# Creating a Manager object\nmanager1 = Manager(\"Alice Smith\", 80000, \"HR\")\n\n# Displaying manager information\nprint(\"Manager Information:\")\nmanager1.display_info()\nprint()\n\n# Creating a Developer object\ndeveloper1 = Developer(\"Bob Johnson\", 60000, \"Python\")\n\n# Displaying developer information\nprint(\"Developer Information:\")\ndeveloper1.display_info()\n",
      "metadata": {
        "trusted": true
      },
      "execution_count": 12,
      "outputs": [
        {
          "name": "stdout",
          "text": "Employee Information:\nName: John Doe\nSalary: 50000\n\nManager Information:\nName: Alice Smith\nSalary: 80000\nDepartment: HR\n\nDeveloper Information:\nName: Bob Johnson\nSalary: 60000\nProgramming Language: Python\n",
          "output_type": "stream"
        }
      ]
    },
    {
      "cell_type": "raw",
      "source": "8. Design a base class called \"Shape\" with attributes like \"colour\" and \"border_width.\"\nCreate derived classes, \"Rectangle\" and \"Circle,\" that inherit from \"Shape\" and add\nspecific attributes like \"length\" and \"width\" for the \"Rectangle\" class and \"radius\" for\nthe \"Circle\" class.",
      "metadata": {}
    },
    {
      "cell_type": "code",
      "source": "class Shape:\n    def __init__(self, colour, border_width):\n        self.colour = colour\n        self.border_width = border_width\n\n    def display_info(self):\n        print(f\"Colour: {self.colour}\")\n        print(f\"Border Width: {self.border_width}\")\n\n\nclass Rectangle(Shape):\n    def __init__(self, colour, border_width, length, width):\n        super().__init__(colour, border_width)\n        self.length = length\n        self.width = width\n\n    def display_info(self):\n        super().display_info()\n        print(f\"Length: {self.length}\")\n        print(f\"Width: {self.width}\")\n\n\nclass Circle(Shape):\n    def __init__(self, colour, border_width, radius):\n        super().__init__(colour, border_width)\n        self.radius = radius\n\n    def display_info(self):\n        super().display_info()\n        print(f\"Radius: {self.radius}\")\n\n\n# Example usage:\n\n# Creating a Shape object\nshape1 = Shape(\"Red\", 2)\n\n# Displaying shape information\nprint(\"Shape Information:\")\nshape1.display_info()\nprint()\n\n# Creating a Rectangle object\nrectangle1 = Rectangle(\"Blue\", 1, 5, 3)\n\n# Displaying rectangle information\nprint(\"Rectangle Information:\")\nrectangle1.display_info()\nprint()\n\n# Creating a Circle object\ncircle1 = Circle(\"Green\", 1.5, 4)\n\n# Displaying circle information\nprint(\"Circle Information:\")\ncircle1.display_info()\n",
      "metadata": {
        "trusted": true
      },
      "execution_count": 13,
      "outputs": [
        {
          "name": "stdout",
          "text": "Shape Information:\nColour: Red\nBorder Width: 2\n\nRectangle Information:\nColour: Blue\nBorder Width: 1\nLength: 5\nWidth: 3\n\nCircle Information:\nColour: Green\nBorder Width: 1.5\nRadius: 4\n",
          "output_type": "stream"
        }
      ]
    },
    {
      "cell_type": "raw",
      "source": "9. Create a base class called \"Device\" with attributes like \"brand\" and \"model.\" Derive\ntwo classes, \"Phone\" and \"Tablet,\" from \"Device.\" Add specific attributes like\n\"screen_size\" for the \"Phone\" class and \"battery_capacity\" for the \"Tablet\" class.",
      "metadata": {}
    },
    {
      "cell_type": "code",
      "source": "class Device:\n    def __init__(self, brand, model):\n        self.brand = brand\n        self.model = model\n\n    def display_info(self):\n        print(f\"Brand: {self.brand}\")\n        print(f\"Model: {self.model}\")\n\n\nclass Phone(Device):\n    def __init__(self, brand, model, screen_size):\n        super().__init__(brand, model)\n        self.screen_size = screen_size\n\n    def display_info(self):\n        super().display_info()\n        print(f\"Screen Size: {self.screen_size}\")\n\n\nclass Tablet(Device):\n    def __init__(self, brand, model, battery_capacity):\n        super().__init__(brand, model)\n        self.battery_capacity = battery_capacity\n\n    def display_info(self):\n        super().display_info()\n        print(f\"Battery Capacity: {self.battery_capacity}\")\n\n\n# Example usage:\n\n# Creating a Device object\ndevice1 = Device(\"XYZ\", \"Model 123\")\n\n# Displaying device information\nprint(\"Device Information:\")\ndevice1.display_info()\nprint()\n\n# Creating a Phone object\nphone1 = Phone(\"ABC\", \"Phone Model\", \"6 inches\")\n\n# Displaying phone information\nprint(\"Phone Information:\")\nphone1.display_info()\nprint()\n\n# Creating a Tablet object\ntablet1 = Tablet(\"DEF\", \"Tablet Model\", \"8000 mAh\")\n\n# Displaying tablet information\nprint(\"Tablet Information:\")\ntablet1.display_info()\n",
      "metadata": {
        "trusted": true
      },
      "execution_count": 14,
      "outputs": [
        {
          "name": "stdout",
          "text": "Device Information:\nBrand: XYZ\nModel: Model 123\n\nPhone Information:\nBrand: ABC\nModel: Phone Model\nScreen Size: 6 inches\n\nTablet Information:\nBrand: DEF\nModel: Tablet Model\nBattery Capacity: 8000 mAh\n",
          "output_type": "stream"
        }
      ]
    },
    {
      "cell_type": "raw",
      "source": "10. Create a base class called \"BankAccount\" with attributes like \"account_number\" and\n\"balance.\" Derive two classes, \"SavingsAccount\" and \"CheckingAccount,\" from\n\"BankAccount.\" Add specific methods like \"calculate_interest\" for the\n\"SavingsAccount\" class and \"deduct_fees\" for the \"CheckingAccount\" class.",
      "metadata": {}
    },
    {
      "cell_type": "code",
      "source": "class BankAccount:\n    def __init__(self, account_number, balance):\n        self.account_number = account_number\n        self.balance = balance\n\n    def display_info(self):\n        print(f\"Account Number: {self.account_number}\")\n        print(f\"Balance: ${self.balance:.2f}\")\n\n\nclass SavingsAccount(BankAccount):\n    def __init__(self, account_number, balance, interest_rate):\n        super().__init__(account_number, balance)\n        self.interest_rate = interest_rate\n\n    def calculate_interest(self):\n        interest = self.balance * self.interest_rate / 100\n        self.balance += interest\n\n\nclass CheckingAccount(BankAccount):\n    def __init__(self, account_number, balance, transaction_fee):\n        super().__init__(account_number, balance)\n        self.transaction_fee = transaction_fee\n\n    def deduct_fees(self, num_transactions):\n        fees = self.transaction_fee * num_transactions\n        self.balance -= fees\n\n\n# Example usage:\n\n# Creating a BankAccount object\naccount1 = BankAccount(\"123456789\", 1000.0)\n\n# Displaying bank account information\nprint(\"Bank Account Information:\")\naccount1.display_info()\nprint()\n\n# Creating a SavingsAccount object\nsavings_account1 = SavingsAccount(\"987654321\", 2000.0, 2.5)\n\n# Displaying savings account information before interest calculation\nprint(\"Savings Account Information Before Interest:\")\nsavings_account1.display_info()\n\n# Calculating and adding interest to the savings account\nsavings_account1.calculate_interest()\n\n# Displaying savings account information after interest calculation\nprint(\"\\nSavings Account Information After Interest:\")\nsavings_account1.display_info()\nprint()\n\n# Creating a CheckingAccount object\nchecking_account1 = CheckingAccount(\"567890123\", 1500.0, 1.0)\n\n# Displaying checking account information before fee deduction\nprint(\"Checking Account Information Before Fee Deduction:\")\nchecking_account1.display_info()\n\n# Deducting fees for 3 transactions\nchecking_account1.deduct_fees(3)\n\n# Displaying checking account information after fee deduction\nprint(\"\\nChecking Account Information After Fee Deduction:\")\nchecking_account1.display_info()\n",
      "metadata": {
        "trusted": true
      },
      "execution_count": 15,
      "outputs": [
        {
          "name": "stdout",
          "text": "Bank Account Information:\nAccount Number: 123456789\nBalance: $1000.00\n\nSavings Account Information Before Interest:\nAccount Number: 987654321\nBalance: $2000.00\n\nSavings Account Information After Interest:\nAccount Number: 987654321\nBalance: $2050.00\n\nChecking Account Information Before Fee Deduction:\nAccount Number: 567890123\nBalance: $1500.00\n\nChecking Account Information After Fee Deduction:\nAccount Number: 567890123\nBalance: $1497.00\n",
          "output_type": "stream"
        }
      ]
    },
    {
      "cell_type": "code",
      "source": "",
      "metadata": {},
      "execution_count": null,
      "outputs": []
    }
  ]
}